{
 "cells": [
  {
   "cell_type": "code",
   "execution_count": null,
   "metadata": {},
   "outputs": [],
   "source": [
    "from holoanalytics.utils import setup\n",
    "from holoanalytics.utils import importing\n",
    "from holoanalytics.datapreparation import reformatting\n",
    "from holoanalytics.datavisualization import plotting"
   ]
  },
  {
   "cell_type": "code",
   "execution_count": null,
   "metadata": {},
   "outputs": [],
   "source": [
    "setup.request_session()"
   ]
  },
  {
   "cell_type": "code",
   "execution_count": null,
   "metadata": {},
   "outputs": [],
   "source": [
    "member_data = importing.import_member_data()\n",
    "member_channel_data = importing.import_channel_data()\n",
    "member_video_data = importing.import_video_data()\n",
    "\n",
    "member_plot_colours = importing.import_member_plot_colours()\n",
    "\n",
    "member_channel_data, member_video_data = reformatting.reformat_datetimes(member_channel_data, member_video_data)\n",
    "\n",
    "GROUPS_BRANCHES_UNITS = importing.get_groups_branches_units(member_data)"
   ]
  },
  {
   "cell_type": "code",
   "execution_count": null,
   "metadata": {},
   "outputs": [],
   "source": [
    "plotting.channel_stats_correlation(member_data, member_channel_data, colours=member_plot_colours)"
   ]
  },
  {
   "cell_type": "code",
   "execution_count": null,
   "metadata": {},
   "outputs": [],
   "source": [
    "plotting.total_video_duration(member_data, member_channel_data, sort='descending', colours=member_plot_colours)"
   ]
  },
  {
   "cell_type": "code",
   "execution_count": null,
   "metadata": {},
   "outputs": [],
   "source": [
    "plotting.total_video_duration(member_data, member_channel_data, unit_time='days', colours=member_plot_colours)"
   ]
  },
  {
   "cell_type": "code",
   "execution_count": null,
   "metadata": {},
   "outputs": [],
   "source": [
    "plotting.total_video_duration(member_data, member_channel_data, unit_time='seconds', sort='ascending', colours=member_plot_colours)"
   ]
  },
  {
   "cell_type": "code",
   "execution_count": null,
   "metadata": {},
   "outputs": [],
   "source": [
    "plotting.channel_stats_by_unit(member_channel_data, group='Hololive', branch='Japan', show='percentage')"
   ]
  },
  {
   "cell_type": "code",
   "execution_count": null,
   "metadata": {},
   "outputs": [],
   "source": [
    "plotting.channel_stats_by_unit(member_channel_data, group='Hololive', branch='Indonesia', show='percentage')"
   ]
  },
  {
   "cell_type": "code",
   "execution_count": null,
   "metadata": {},
   "outputs": [],
   "source": [
    "plotting.channel_stats_by_unit(member_channel_data, group='Hololive', branch='English', show='percentage')"
   ]
  },
  {
   "cell_type": "code",
   "execution_count": null,
   "metadata": {},
   "outputs": [],
   "source": [
    "plotting.channel_stats_by_unit(member_channel_data, group='Holostars', branch='Japan', show='percentage')"
   ]
  },
  {
   "cell_type": "code",
   "execution_count": null,
   "metadata": {},
   "outputs": [],
   "source": [
    "plotting.channel_stats_by_unit(member_channel_data, group='Holostars', branch='English', show='percentage')"
   ]
  },
  {
   "cell_type": "code",
   "execution_count": null,
   "metadata": {},
   "outputs": [],
   "source": [
    "plotting.channel_stats_by_unit(member_channel_data, group='Hololive', branch='Japan', show='count')"
   ]
  },
  {
   "cell_type": "code",
   "execution_count": null,
   "metadata": {},
   "outputs": [],
   "source": [
    "plotting.channel_stats_by_unit(member_channel_data, group='Hololive', branch='Indonesia', show='count')"
   ]
  },
  {
   "cell_type": "code",
   "execution_count": null,
   "metadata": {},
   "outputs": [],
   "source": [
    "plotting.channel_stats_by_unit(member_channel_data, group='Hololive', branch='English', show='count')"
   ]
  },
  {
   "cell_type": "code",
   "execution_count": null,
   "metadata": {},
   "outputs": [],
   "source": [
    "plotting.channel_stats_by_unit(member_channel_data, group='Holostars', branch='Japan', show='count')"
   ]
  },
  {
   "cell_type": "code",
   "execution_count": null,
   "metadata": {},
   "outputs": [],
   "source": [
    "plotting.channel_stats_by_unit(member_channel_data, group='Holostars', branch='English', show='count')"
   ]
  }
 ],
 "metadata": {
  "kernelspec": {
   "display_name": "venv",
   "language": "python",
   "name": "python3"
  },
  "language_info": {
   "codemirror_mode": {
    "name": "ipython",
    "version": 3
   },
   "file_extension": ".py",
   "mimetype": "text/x-python",
   "name": "python",
   "nbconvert_exporter": "python",
   "pygments_lexer": "ipython3",
   "version": "3.11.1"
  },
  "orig_nbformat": 4,
  "vscode": {
   "interpreter": {
    "hash": "cae6fd9258faf3c4bfd58a82af00efc077b1e72ceebe3fca959194b89022891a"
   }
  }
 },
 "nbformat": 4,
 "nbformat_minor": 2
}
